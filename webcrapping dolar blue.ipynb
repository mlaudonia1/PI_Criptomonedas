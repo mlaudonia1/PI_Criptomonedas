{
 "cells": [
  {
   "cell_type": "code",
   "execution_count": 12,
   "metadata": {},
   "outputs": [
    {
     "name": "stdout",
     "output_type": "stream",
     "text": [
      "mes 1 listo\n",
      "mes 2 listo\n",
      "mes 3 listo\n",
      "Falló en  1\n",
      "mes 4 listo\n",
      "mes 5 listo\n",
      "mes 6 listo\n",
      "mes 7 listo\n",
      "mes 8 listo\n",
      "mes 9 listo\n",
      "mes 10 listo\n",
      "mes 11 listo\n",
      "mes 12 listo\n",
      "                   bid        ask\n",
      "fecha                            \n",
      "2023-01-02   $ 342.00    $ 346.00\n",
      "2023-01-03   $ 350.00    $ 354.00\n",
      "2023-01-04   $ 350.00    $ 354.00\n",
      "2023-01-05   $ 348.00    $ 353.00\n",
      "2023-01-06   $ 350.00    $ 354.00\n",
      "...                ...        ...\n",
      "2023-08-14   $ 665.00    $ 685.00\n",
      "2023-08-15   $ 720.00    $ 730.00\n",
      "2023-08-16   $ 770.00    $ 780.00\n",
      "2023-08-17   $ 750.00    $ 760.00\n",
      "2023-08-18   $ 710.00    $ 720.00\n",
      "\n",
      "[163 rows x 2 columns]\n"
     ]
    }
   ],
   "source": [
    "import requests\n",
    "from bs4 import BeautifulSoup\n",
    "import datetime\n",
    "import pandas as pd\n",
    "\n",
    "def scrap(año, mes):\n",
    "    url  = 'https://www.cotizacion-dolar.com.ar/dolar-blue-historico-'+str(año)+'.php'\n",
    "    for i in range(1,7):\n",
    "        try:        \n",
    "            fecha = datetime.datetime(año,mes,i)\n",
    "            data = {'fecha': fecha.strftime('%d-%m-%y')}\n",
    "            resp = requests.post(url, data=data)\n",
    "            soup = BeautifulSoup(resp.text, \"html.parser\")\n",
    "            break\n",
    "        except:\n",
    "            print('Falló en ',i)    \n",
    "    filas = soup.find_all('td', {'style' : 'padding: 1%'})\n",
    "    return filas\n",
    "\n",
    "def parsear(filas):\n",
    "    mensual = pd.DataFrame() \n",
    "    for i in range(1, int(len(list(filas))/3)):\n",
    "        dic = {}\n",
    "        dic['fecha'] = filas[3*i].text\n",
    "        dic['bid'] = filas[3*i+1].text\n",
    "        dic['ask'] = filas[3*i+2].text\n",
    "        rueda = pd.DataFrame.from_dict(dic, orient='index').transpose().set_index('fecha')\n",
    "        rueda.index = pd.to_datetime(rueda.index, format='%d-%m-%y ')\n",
    "        mensual = pd.concat([mensual,rueda], axis=0)\n",
    "    return mensual\n",
    "\n",
    "def downloadAño(año):\n",
    "    tablaAnual = pd.DataFrame()\n",
    "    for i in range(1,13):\n",
    "        filas = scrap(año=año, mes=i)\n",
    "        tabla = parsear(filas)\n",
    "        tablaAnual = pd.concat([tablaAnual,tabla],axis=0)\n",
    "        print('mes',i,'listo')\n",
    "        \n",
    "    tablaAnual.to_csv('blue_'+str(año)+'.csv')  # Cambio de .to_excel a .to_csv\n",
    "    print(tablaAnual)\n",
    "\n",
    "downloadAño(2023)\n"
   ]
  }
 ],
 "metadata": {
  "kernelspec": {
   "display_name": "Python 3",
   "language": "python",
   "name": "python3"
  },
  "language_info": {
   "codemirror_mode": {
    "name": "ipython",
    "version": 3
   },
   "file_extension": ".py",
   "mimetype": "text/x-python",
   "name": "python",
   "nbconvert_exporter": "python",
   "pygments_lexer": "ipython3",
   "version": "3.11.4"
  },
  "orig_nbformat": 4
 },
 "nbformat": 4,
 "nbformat_minor": 2
}
